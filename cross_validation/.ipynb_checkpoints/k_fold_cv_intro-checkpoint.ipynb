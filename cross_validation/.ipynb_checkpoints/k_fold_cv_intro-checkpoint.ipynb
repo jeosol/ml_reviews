{
 "cells": [
  {
   "cell_type": "markdown",
   "id": "e6f31b0f",
   "metadata": {},
   "source": [
    "# K-Fold Cross Validation"
   ]
  },
  {
   "cell_type": "markdown",
   "id": "bd45c42e",
   "metadata": {},
   "source": [
    "Types of cross-validation\n",
    "- Representative: value of k is chosen such that each train/test set of data samples is large enough to be representative of the overall dataset\n",
    "\n",
    "- k=10: value of k is set at 10, a common value of k, often recommended if no other choice.\n",
    "\n",
    "- k=n: value of k is fixed at n, where n is the size of the dataset, giving each test sampe the chance to be used in the hold out set. This is also called leave-one-out cv (LOOCV)"
   ]
  },
  {
   "cell_type": "code",
   "execution_count": 2,
   "id": "aacca3aa",
   "metadata": {},
   "outputs": [
    {
     "name": "stdout",
     "output_type": "stream",
     "text": [
      "train: [0.1 0.4 0.5 0.6], test: [0.2 0.3]\n",
      "train: [0.2 0.3 0.4 0.6], test: [0.1 0.5]\n",
      "train: [0.1 0.2 0.3 0.5], test: [0.4 0.6]\n"
     ]
    }
   ],
   "source": [
    "# scikit-learn k-fold cross-validation\n",
    "from numpy import array\n",
    "from sklearn.model_selection import KFold\n",
    "# data sample\n",
    "data = array([0.1, 0.2, 0.3, 0.4, 0.5, 0.6])\n",
    "# prepare cross validation\n",
    "kfold = KFold(n_splits=3, random_state=1, shuffle=True)\n",
    "# enumerate splits\n",
    "for train, test in kfold.split(data):\n",
    "\tprint('train: %s, test: %s' % (data[train], data[test]))"
   ]
  },
  {
   "cell_type": "markdown",
   "id": "6eb4ca00",
   "metadata": {},
   "source": [
    "Three commonly used variations are as follows:\n",
    "\n",
    "- Train/Test Split: Taken to one extreme, k may be set to 2 (not 1) such that a single train/test split is created to evaluate the model.\n",
    "= LOOCV: Taken to another extreme, k may be set to the total number of observations in the dataset such that each observation is given a chance to be the held out of the dataset. This is called leave-one-out cross-validation, or LOOCV for short.\n",
    "- Stratified: The splitting of data into folds may be governed by criteria such as ensuring that each fold has the same proportion of observations with a given categorical value, such as the class outcome value. This is called stratified cross-validation.\n",
    "- Repeated: This is where the k-fold cross-validation procedure is repeated n times, where importantly, the data sample is shuffled prior to each repetition, which results in a different split of the sample.\n",
    "- Nested: This is where k-fold cross-validation is performed within each fold of cross-validation, often to perform hyperparameter tuning during model evaluation. This is called nested cross-validation or double cross-validation."
   ]
  },
  {
   "cell_type": "code",
   "execution_count": null,
   "id": "69015954",
   "metadata": {},
   "outputs": [],
   "source": []
  }
 ],
 "metadata": {
  "kernelspec": {
   "display_name": "Python [conda env:ml_pocket_reference] *",
   "language": "python",
   "name": "conda-env-ml_pocket_reference-py"
  },
  "language_info": {
   "codemirror_mode": {
    "name": "ipython",
    "version": 3
   },
   "file_extension": ".py",
   "mimetype": "text/x-python",
   "name": "python",
   "nbconvert_exporter": "python",
   "pygments_lexer": "ipython3",
   "version": "3.9.7"
  }
 },
 "nbformat": 4,
 "nbformat_minor": 5
}

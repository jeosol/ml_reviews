{
 "cells": [
  {
   "cell_type": "code",
   "execution_count": 1,
   "id": "ab5cbf5d",
   "metadata": {},
   "outputs": [],
   "source": [
    "import numpy as np\n",
    "import pandas as pd\n",
    "#import pandas_profiling\n",
    "import matplotlib.pyplot as plt\n",
    "from sklearn import (ensemble, preprocessing, tree)\n",
    "from sklearn.metrics import (auc, confusion_matrix, roc_auc_score, roc_curve)\n",
    "from sklearn.model_selection import (train_test_split, StratifiedKFold)\n",
    "from yellowbrick.classifier import(ConfusionMatrix, ROCAUC)\n",
    "from yellowbrick.model_selection import (LearningCurve)\n"
   ]
  },
  {
   "cell_type": "code",
   "execution_count": 2,
   "id": "0058cb7f",
   "metadata": {},
   "outputs": [],
   "source": [
    "num_rows, num_cols = 40, 40"
   ]
  },
  {
   "cell_type": "code",
   "execution_count": 117,
   "id": "a0d84f55",
   "metadata": {},
   "outputs": [],
   "source": [
    "# read the datda\n",
    "data = pd.read_csv('obj_surface_data.csv')\n",
    "X = data.iloc[:,0:2]\n",
    "y = data.iloc[:,-1]"
   ]
  },
  {
   "cell_type": "code",
   "execution_count": 118,
   "id": "085e20bf",
   "metadata": {},
   "outputs": [
    {
     "data": {
      "text/plain": [
       "(1600, 2)"
      ]
     },
     "execution_count": 118,
     "metadata": {},
     "output_type": "execute_result"
    }
   ],
   "source": [
    "X.shape"
   ]
  },
  {
   "cell_type": "code",
   "execution_count": 119,
   "id": "569562b2",
   "metadata": {},
   "outputs": [
    {
     "data": {
      "text/plain": [
       "(1600,)"
      ]
     },
     "execution_count": 119,
     "metadata": {},
     "output_type": "execute_result"
    }
   ],
   "source": [
    "y.shape"
   ]
  },
  {
   "cell_type": "code",
   "execution_count": 120,
   "id": "980fd71e",
   "metadata": {},
   "outputs": [],
   "source": [
    "X_train, X_test, y_train, y_test = train_test_split(X, y, test_size=0.33, random_state=1)"
   ]
  },
  {
   "cell_type": "code",
   "execution_count": 110,
   "id": "128d743d",
   "metadata": {},
   "outputs": [],
   "source": [
    "\n",
    "        "
   ]
  },
  {
   "cell_type": "code",
   "execution_count": 108,
   "id": "c7a696a4",
   "metadata": {},
   "outputs": [],
   "source": [
    "data = create_data(obj, num_rows, num_cols)"
   ]
  },
  {
   "cell_type": "code",
   "execution_count": 112,
   "id": "0d0b3363",
   "metadata": {},
   "outputs": [],
   "source": [
    "data.to_csv('obj_surface_data.csv', index=None)"
   ]
  },
  {
   "cell_type": "code",
   "execution_count": 26,
   "id": "01cafa27",
   "metadata": {},
   "outputs": [
    {
     "data": {
      "text/plain": [
       "J       10.000000\n",
       "OBJF    22.487284\n",
       "I        0.000000\n",
       "Name: 400, dtype: float64"
      ]
     },
     "execution_count": 26,
     "metadata": {},
     "output_type": "execute_result"
    }
   ],
   "source": [
    "data.iloc[400, :]"
   ]
  },
  {
   "cell_type": "code",
   "execution_count": null,
   "id": "48a49ae8",
   "metadata": {},
   "outputs": [],
   "source": []
  }
 ],
 "metadata": {
  "kernelspec": {
   "display_name": "ml_pocket_reference",
   "language": "python",
   "name": "ml_pocket_reference"
  },
  "language_info": {
   "codemirror_mode": {
    "name": "ipython",
    "version": 3
   },
   "file_extension": ".py",
   "mimetype": "text/x-python",
   "name": "python",
   "nbconvert_exporter": "python",
   "pygments_lexer": "ipython3",
   "version": "3.9.0"
  }
 },
 "nbformat": 4,
 "nbformat_minor": 5
}
